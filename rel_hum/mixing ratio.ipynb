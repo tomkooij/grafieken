{
 "cells": [
  {
   "cell_type": "code",
   "execution_count": 174,
   "id": "8426e69f-9dd5-4ea0-89fb-5e7133a5b7d9",
   "metadata": {},
   "outputs": [],
   "source": [
    "import matplotlib.pyplot as plt\n",
    "import numpy as np"
   ]
  },
  {
   "cell_type": "code",
   "execution_count": 205,
   "id": "fe4119bb-c5ff-40a9-be4c-d51b08e9a027",
   "metadata": {},
   "outputs": [
    {
     "data": {
      "text/plain": [
       "array([-20, -15, -10,  -5,   0,   5,  10,  15,  20,  25,  30,  35])"
      ]
     },
     "execution_count": 205,
     "metadata": {},
     "output_type": "execute_result"
    }
   ],
   "source": [
    "T = np.arange(-20,36,5)            \n",
    "p = 1013  # hPa\n",
    "T"
   ]
  },
  {
   "cell_type": "code",
   "execution_count": 206,
   "id": "8b9cfb32-ad95-4c24-bdd1-5a9eb7b96a74",
   "metadata": {},
   "outputs": [
    {
     "data": {
      "text/plain": [
       "array([ 1.25031552,  1.9093138 ,  2.86193948,  4.21589235,  6.11      ,\n",
       "        8.72073226, 12.26949924, 17.03072504, 23.3406737 , 31.6069887 ,\n",
       "       42.31889308, 56.0579833 ])"
      ]
     },
     "execution_count": 206,
     "metadata": {},
     "output_type": "execute_result"
    }
   ],
   "source": [
    "# bron: https://www.omnicalculator.com/physics/mixing-ratio-of-air#what-are-the-actual-and-saturation-mixing-ratios\n",
    "# saturated pressure (hPa)\n",
    "e_s = 6.11 * 10 ** (7.5 * (T / (T + 237.7))) \n",
    "e_s"
   ]
  },
  {
   "cell_type": "code",
   "execution_count": 207,
   "id": "c4acdebd-d3b4-4b4a-ab30-8996edacbbfb",
   "metadata": {},
   "outputs": [
    {
     "data": {
      "text/plain": [
       "array([ 0.76862761,  1.17450979,  1.76217546,  2.59932581,  3.77423224,\n",
       "        5.40092185,  7.62568987, 10.63546871, 14.66888497, 20.03132133,\n",
       "       27.11609585, 36.43521056])"
      ]
     },
     "execution_count": 207,
     "metadata": {},
     "output_type": "execute_result"
    }
   ],
   "source": [
    "# saturated mixing ration (g/kg)\n",
    "w_s = 621.97 * ( e_s / (p - e_s) )\n",
    "w_s"
   ]
  },
  {
   "cell_type": "code",
   "execution_count": 208,
   "id": "ed2feb6d-3730-4558-a471-b3417c9cae5f",
   "metadata": {},
   "outputs": [
    {
     "data": {
      "text/plain": [
       "array([1.39915388, 1.37205425, 1.34598444, 1.32088683, 1.29670805,\n",
       "       1.27339854, 1.25091225, 1.22920633, 1.20824085, 1.18797855,\n",
       "       1.16838464, 1.14942659])"
      ]
     },
     "execution_count": 208,
     "metadata": {},
     "output_type": "execute_result"
    }
   ],
   "source": [
    "# air density (kg/m3)\n",
    "# p in hPa\n",
    "R_dry = 286 # J/kg/K  verwaarloos waterdamp\n",
    "rho = (p * 100 / (R_dry*(T+273.15))) \n",
    "rho"
   ]
  },
  {
   "cell_type": "code",
   "execution_count": 209,
   "id": "02c4e348-bba9-46b7-b372-bdfdddebe42c",
   "metadata": {},
   "outputs": [
    {
     "data": {
      "text/plain": [
       "array([ 1.0754283 ,  1.61149114,  2.37186074,  3.43341523,  4.89407733,\n",
       "        6.87752601,  9.53906889, 13.07318546, 17.723546  , 23.79678004,\n",
       "       31.68202993, 41.87959989])"
      ]
     },
     "execution_count": 209,
     "metadata": {},
     "output_type": "execute_result"
    }
   ],
   "source": [
    "# satured mixing ratio in g/kg\n",
    "w_s * rho"
   ]
  },
  {
   "cell_type": "code",
   "execution_count": 214,
   "id": "c16e52a7-ae63-49b4-b60a-16d5bf7228f6",
   "metadata": {},
   "outputs": [
    {
     "data": {
      "text/plain": [
       "[<matplotlib.lines.Line2D at 0x1ddae0314c0>]"
      ]
     },
     "execution_count": 214,
     "metadata": {},
     "output_type": "execute_result"
    },
    {
     "data": {
      "image/png": "[encoded data removed]",
      "text/plain": [
       "<Figure size 640x480 with 1 Axes>"
      ]
     },
     "metadata": {},
     "output_type": "display_data"
    }
   ],
   "source": [
    "plt.plot(T, w_s*rho)"
   ]
  },
  {
   "cell_type": "code",
   "execution_count": 217,
   "id": "b9dc2ddb-ea9e-4426-bb7f-e2363ccabdba",
   "metadata": {},
   "outputs": [
    {
     "name": "stdout",
     "output_type": "stream",
     "text": [
      "(-20 , 1.0754283012222525)\n",
      "(-15 , 1.611491143847056)\n",
      "(-10 , 2.371860739634463)\n",
      "(-5 , 3.4334152315515016)\n",
      "(0 , 4.894077332679975)\n",
      "(5 , 6.8775260073830715)\n",
      "(10 , 9.53906888874858)\n",
      "(15 , 13.073185462629334)\n",
      "(20 , 17.72354599750831)\n",
      "(25 , 23.796780036958946)\n",
      "(30 , 31.6820299347449)\n",
      "(35 , 41.87959989028212)\n"
     ]
    }
   ],
   "source": [
    "for x,y in zip(T, w_s*rho):\n",
    "    print(f\"({x} , {y})\")"
   ]
  },
  {
   "cell_type": "code",
   "execution_count": 198,
   "id": "ac3f544b-e631-457f-a3cb-6f02df114f38",
   "metadata": {},
   "outputs": [],
   "source": [
    "# DAUWPUNT"
   ]
  },
  {
   "cell_type": "code",
   "execution_count": 197,
   "id": "9fe10948-1f56-43e8-b349-e7b588ad65db",
   "metadata": {},
   "outputs": [],
   "source": [
    "Td = 15"
   ]
  },
  {
   "cell_type": "code",
   "execution_count": 188,
   "id": "d8182a41-a989-48ca-847f-15c1ea2c036f",
   "metadata": {},
   "outputs": [
    {
     "data": {
      "text/plain": [
       "12.269499238996815"
      ]
     },
     "execution_count": 188,
     "metadata": {},
     "output_type": "execute_result"
    }
   ],
   "source": [
    "# partial pressure\n",
    "e = 6.11 * 10 ** (7.5 * (Td / (237.7 + Td))) \n",
    "e"
   ]
  },
  {
   "cell_type": "code",
   "execution_count": 189,
   "id": "08c91740-9407-424f-bf13-4237cdbe7215",
   "metadata": {},
   "outputs": [
    {
     "data": {
      "text/plain": [
       "7.6256898694260595"
      ]
     },
     "execution_count": 189,
     "metadata": {},
     "output_type": "execute_result"
    }
   ],
   "source": [
    "# Mixing ratio (g/kg)\n",
    "w = 621.97 * ( e / (p - e) )\n",
    "w"
   ]
  },
  {
   "cell_type": "code",
   "execution_count": 192,
   "id": "9c9a2ab9-efda-4f97-ae80-8f932201be60",
   "metadata": {},
   "outputs": [
    {
     "data": {
      "text/plain": [
       "array([9.92117609, 6.49265757, 4.32742939, 2.93371837, 2.02046122,\n",
       "       1.41192376, 1.        , 0.71700553, 0.51985477, 0.38068831])"
      ]
     },
     "execution_count": 192,
     "metadata": {},
     "output_type": "execute_result"
    }
   ],
   "source": [
    "RH = w/w_s\n",
    "RH"
   ]
  }
 ],
 "metadata": {
  "kernelspec": {
   "display_name": "Python 3 (ipykernel)",
   "language": "python",
   "name": "python3"
  },
  "language_info": {
   "codemirror_mode": {
    "name": "ipython",
    "version": 3
   },
   "file_extension": ".py",
   "mimetype": "text/x-python",
   "name": "python",
   "nbconvert_exporter": "python",
   "pygments_lexer": "ipython3",
   "version": "3.12.4"
  }
 },
 "nbformat": 4,
 "nbformat_minor": 5
}
