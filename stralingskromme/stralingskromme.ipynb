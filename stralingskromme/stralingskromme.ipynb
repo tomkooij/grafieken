{
 "cells": [
  {
   "cell_type": "markdown",
   "metadata": {},
   "source": [
    "Grafieken staan in:\n",
    "https://www.overleaf.com/project/5ec1435690cbee000145eec4"
   ]
  },
  {
   "cell_type": "code",
   "execution_count": 1,
   "metadata": {},
   "outputs": [],
   "source": [
    "import matplotlib.pyplot as plt\n",
    "import numpy as np\n",
    "h = 6.626e-34\n",
    "c = 3.0e+8\n",
    "k = 1.38e-23\n",
    "sigma = 5.68e-8\n",
    "kw = 2.89777e-3"
   ]
  },
  {
   "cell_type": "code",
   "execution_count": 2,
   "metadata": {},
   "outputs": [],
   "source": [
    "def planck(wav, T):\n",
    "    \"\"\"stralingsdichtheid Wm^-2 per nm\"\"\"\n",
    "    a = 2.0*np.pi*h*c**2\n",
    "    b = h*c/(wav*k*T)\n",
    "    intensity = a/ ( (wav**5) * (np.exp(b) - 1.0) )\n",
    "    return intensity / 1e9  # per nm\n"
   ]
  },
  {
   "cell_type": "code",
   "execution_count": 3,
   "metadata": {},
   "outputs": [
    {
     "name": "stderr",
     "output_type": "stream",
     "text": [
      "<ipython-input-2-a3658690f4ef>:5: RuntimeWarning: overflow encountered in exp\n",
      "  intensity = a/ ( (wav**5) * (np.exp(b) - 1.0) )\n"
     ]
    },
    {
     "data": {
      "image/png": "[encoded data removed]",
      "text/plain": [
       "<Figure size 432x288 with 1 Axes>"
      ]
     },
     "metadata": {
      "needs_background": "light"
     },
     "output_type": "display_data"
    }
   ],
   "source": [
    "MAX = 5e-6  # 5000 nm\n",
    "T = 4000\n",
    "wavelengths = np.arange(1e-9, MAX, 1e-9) \n",
    "def intensity(T):\n",
    "    return planck(wavelengths, T)\n",
    "\n",
    "plt.plot(wavelengths, intensity(T))\n",
    "plt.show()"
   ]
  },
  {
   "cell_type": "code",
   "execution_count": 4,
   "metadata": {},
   "outputs": [
    {
     "name": "stdout",
     "output_type": "stream",
     "text": [
      "4000 K: 724.4425 nm\n",
      "Opp onder grafiek 14259566.615781762\n",
      "I Stefan-Boltzman 14540800.0\n",
      "maximum: 13118.060966913541\n"
     ]
    },
    {
     "name": "stderr",
     "output_type": "stream",
     "text": [
      "<ipython-input-2-a3658690f4ef>:5: RuntimeWarning: overflow encountered in exp\n",
      "  intensity = a/ ( (wav**5) * (np.exp(b) - 1.0) )\n"
     ]
    }
   ],
   "source": [
    "\n",
    "l_max = kw / T\n",
    "print(f\"{T} K: {l_max/1e-9} nm\")\n",
    "print(\"Opp onder grafiek\", np.sum(planck(wavelengths, T)))\n",
    "print(\"I Stefan-Boltzman\", 5.68e-8*(T)**4)\n",
    "print(f\"maximum: {planck(l_max, T)}\")"
   ]
  },
  {
   "cell_type": "code",
   "execution_count": 5,
   "metadata": {},
   "outputs": [
    {
     "name": "stderr",
     "output_type": "stream",
     "text": [
      "<ipython-input-2-a3658690f4ef>:5: RuntimeWarning: overflow encountered in exp\n",
      "  intensity = a/ ( (wav**5) * (np.exp(b) - 1.0) )\n"
     ]
    }
   ],
   "source": [
    "from artist import Plot\n",
    "\n",
    "# make graph\n",
    "graph = Plot()\n",
    "\n",
    "# make Plot\n",
    "graph.plot(wavelengths*1e9, intensity(T), mark=None, linestyle='red, smooth, very thick')\n",
    "\n",
    "# NL getallen 1000 ipv 1,000 voor duizend en komma voor decimaalteken\n",
    "graph.set_axis_options('/pgf/number format/.cd,\\n'\n",
    "                       'use comma,\\n'\n",
    "                       '1000 sep={},')\n",
    "\n",
    "graph.set_xlimits(0, 5000)\n",
    "graph.set_ylimits(0, 4500)\n",
    "\n",
    " # set scale: 1cm equals 10 units along the x-axis\n",
    "graph.set_xscale(cm=500)\n",
    "# set scale: 1cm equals 1 unit along the y-axis\n",
    "graph.set_yscale(cm=500)\n",
    "\n",
    "# set ticks at every unit along the y axis\n",
    "graph.set_yticks(np.arange(0, 5000, 500))\n",
    "graph.set_xticks(np.arange(0, 6000, 1000))\n",
    "\n",
    "graph.set_xlabel(r'golflengte $\\left[\\si{\\nano\\meter}\\right]$')\n",
    "graph.set_ylabel(r'Intensiteit-dichtheid $\\left[\\si{\\watt'\n",
    "                    r'\\per\\meter\\squared\\per\\nano\\meter}\\right]$')\n",
    "\n",
    "# set graph paper\n",
    "graph.use_graph_paper()\n",
    "\n",
    "\n",
    "# save graph to file\n",
    "graph.save(f'stralingskromme{T}K')"
   ]
  },
  {
   "cell_type": "code",
   "execution_count": null,
   "metadata": {},
   "outputs": [],
   "source": []
  }
 ],
 "metadata": {
  "kernelspec": {
   "display_name": "Python 3",
   "language": "python",
   "name": "python3"
  },
  "language_info": {
   "codemirror_mode": {
    "name": "ipython",
    "version": 3
   },
   "file_extension": ".py",
   "mimetype": "text/x-python",
   "name": "python",
   "nbconvert_exporter": "python",
   "pygments_lexer": "ipython3",
   "version": "3.8.1"
  }
 },
 "nbformat": 4,
 "nbformat_minor": 4
}
